{
 "cells": [
  {
   "attachments": {},
   "cell_type": "markdown",
   "metadata": {},
   "source": [
    "## Say `Good Morning` using Time Module in Python"
   ]
  },
  {
   "cell_type": "code",
   "execution_count": 1,
   "metadata": {},
   "outputs": [
    {
     "name": "stdout",
     "output_type": "stream",
     "text": [
      "21:11:53\n"
     ]
    }
   ],
   "source": [
    "import time\n",
    "timestamp = time.strftime(\"%H:%M:%S\")\n",
    "print(timestamp)"
   ]
  },
  {
   "cell_type": "code",
   "execution_count": 12,
   "metadata": {},
   "outputs": [
    {
     "name": "stdout",
     "output_type": "stream",
     "text": [
      "Good Afternoon\n"
     ]
    }
   ],
   "source": [
    "timestamp = input(time.strftime('%H'))\n",
    "\n",
    "if timestamp >= '03:00:00' and timestamp < '12:00:00':\n",
    "    print(\"Good Morning\")\n",
    "elif timestamp >= '12:00:00' and timestamp < '16:00:00':\n",
    "    print(\"Good Afternoon\")\n",
    "elif timestamp >= '16:00:00' and timestamp < '19:00:00':\n",
    "    print(\"Good Evening\")\n",
    "else:\n",
    "    print(\"Good Night\")"
   ]
  }
 ],
 "metadata": {
  "kernelspec": {
   "display_name": "Python 3",
   "language": "python",
   "name": "python3"
  },
  "language_info": {
   "codemirror_mode": {
    "name": "ipython",
    "version": 3
   },
   "file_extension": ".py",
   "mimetype": "text/x-python",
   "name": "python",
   "nbconvert_exporter": "python",
   "pygments_lexer": "ipython3",
   "version": "3.11.0"
  },
  "orig_nbformat": 4
 },
 "nbformat": 4,
 "nbformat_minor": 2
}
