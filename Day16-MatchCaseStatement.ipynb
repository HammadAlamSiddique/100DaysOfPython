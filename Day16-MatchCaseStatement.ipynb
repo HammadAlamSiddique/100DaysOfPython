{
 "cells": [
  {
   "attachments": {},
   "cell_type": "markdown",
   "metadata": {},
   "source": [
    "## Match Case Statement\n",
    "- Just like switch statement in C,C++\\\n",
    "- No need to write break statement as we wrote in C,C++"
   ]
  },
  {
   "cell_type": "code",
   "execution_count": 9,
   "metadata": {},
   "outputs": [
    {
     "name": "stdout",
     "output_type": "stream",
     "text": [
      "x is not 80\n"
     ]
    }
   ],
   "source": [
    "x = int(input(\"Enter the number: \"))\n",
    "match x:\n",
    "    case 1:\n",
    "        print(\"x is one\")\n",
    "    case 4:\n",
    "        print(\"x is four\")\n",
    "    case 8:\n",
    "        print(\"x is eight\")\n",
    "    case _ if x!=90:\n",
    "        print(\"x is not 90\")\n",
    "    case _ if x!= 80:\n",
    "        print(\"x is not 80\")"
   ]
  }
 ],
 "metadata": {
  "kernelspec": {
   "display_name": "Python 3",
   "language": "python",
   "name": "python3"
  },
  "language_info": {
   "codemirror_mode": {
    "name": "ipython",
    "version": 3
   },
   "file_extension": ".py",
   "mimetype": "text/x-python",
   "name": "python",
   "nbconvert_exporter": "python",
   "pygments_lexer": "ipython3",
   "version": "3.11.0"
  },
  "orig_nbformat": 4
 },
 "nbformat": 4,
 "nbformat_minor": 2
}
