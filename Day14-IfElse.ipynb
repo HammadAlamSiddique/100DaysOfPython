{
 "cells": [
  {
   "attachments": {},
   "cell_type": "markdown",
   "metadata": {},
   "source": [
    "## If Else Statements"
   ]
  },
  {
   "cell_type": "code",
   "execution_count": 2,
   "metadata": {},
   "outputs": [
    {
     "name": "stdout",
     "output_type": "stream",
     "text": [
      "Your age is 17\n",
      "Sorry! You cannot drive.\n"
     ]
    }
   ],
   "source": [
    "age = int(input(\"Enter your age\"))\n",
    "print(\"Your age is\", age)\n",
    "\n",
    "if age>=18:\n",
    "    print(\"Grab your passport. You can drive.\")\n",
    "else:\n",
    "    print(\"Sorry! You cannot drive.\")"
   ]
  },
  {
   "attachments": {},
   "cell_type": "markdown",
   "metadata": {},
   "source": [
    "### If-Elif-Else Statement"
   ]
  },
  {
   "cell_type": "code",
   "execution_count": 8,
   "metadata": {},
   "outputs": [
    {
     "name": "stdout",
     "output_type": "stream",
     "text": [
      "Alexa, add oranges to the cart.\n"
     ]
    }
   ],
   "source": [
    "applePrice = 250\n",
    "bananaPrice = 160\n",
    "orangePrice = 300\n",
    "myBudget = 301\n",
    "if myBudget >= orangePrice:\n",
    "    print(\"Alexa, add oranges to the cart.\")\n",
    "elif myBudget >= applePrice:\n",
    "    print(\"Alexa, add apples to the cart.\")\n",
    "elif myBudget >= bananaPrice:\n",
    "    print(\"Alexa, add bananas to the cart.\")\n",
    "else:\n",
    "    print(\"You budget is low for any of the fruit.\")\n"
   ]
  },
  {
   "attachments": {},
   "cell_type": "markdown",
   "metadata": {},
   "source": [
    "### Nested If-Else Statement"
   ]
  },
  {
   "cell_type": "code",
   "execution_count": 7,
   "metadata": {},
   "outputs": [
    {
     "name": "stdout",
     "output_type": "stream",
     "text": [
      "1000 is Positive Number\n",
      "Number is between 501 and infinity\n"
     ]
    }
   ],
   "source": [
    "number = int(input(\"Enter the number: \"))\n",
    "if number > 0:\n",
    "    print(number, \"is Positive Number\")\n",
    "    if number >= 1 and number <= 100:\n",
    "        print(\"Number is between 1 and 100\")\n",
    "    elif number >= 101 and number <= 500:\\\n",
    "        print(\"Number is between 101 and 500\")\n",
    "    else:\n",
    "        print(\"Number is between 501 and infinity\")\n",
    "\n",
    "elif number < 0:\n",
    "    print(number, \"is Negative Number\")\n",
    "    if number <= -1 and number >= -100:\n",
    "        print(\"Number is between -1 and -100\")\n",
    "    elif number <= -101 and number >= -500:\\\n",
    "        print(\"Number is between -101 and -500\")\n",
    "    else:\n",
    "        print(\"Number is between -501 and infinity\")\n",
    "\n",
    "else:\n",
    "    print(number, \"is Zero\")"
   ]
  },
  {
   "cell_type": "code",
   "execution_count": null,
   "metadata": {},
   "outputs": [],
   "source": []
  }
 ],
 "metadata": {
  "kernelspec": {
   "display_name": "Python 3",
   "language": "python",
   "name": "python3"
  },
  "language_info": {
   "codemirror_mode": {
    "name": "ipython",
    "version": 3
   },
   "file_extension": ".py",
   "mimetype": "text/x-python",
   "name": "python",
   "nbconvert_exporter": "python",
   "pygments_lexer": "ipython3",
   "version": "3.11.0"
  },
  "orig_nbformat": 4
 },
 "nbformat": 4,
 "nbformat_minor": 2
}
